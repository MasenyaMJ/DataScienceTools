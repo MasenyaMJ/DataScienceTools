{
 "cells": [
  {
   "cell_type": "markdown",
   "id": "bb049941-bec6-4a1c-8672-4a8410f8a52a",
   "metadata": {},
   "source": [
    "<center>\n",
    "    <img src=\"https://cf-courses-data.s3.us.cloud-object-storage.appdomain.cloud/IBMDeveloperSkillsNetwork-DS0105EN-SkillsNetwork/labs/Module2/images/SN_web_lightmode.png\" width=\"300\" alt=\"cognitiveclass.ai logo\">\n",
    "</center>"
   ]
  },
  {
   "cell_type": "markdown",
   "id": "9e256008-268b-421d-931b-9dc3e825988d",
   "metadata": {},
   "source": [
    "# Data Science Tools and Ecosystem"
   ]
  },
  {
   "cell_type": "markdown",
   "id": "a2a93dd3-76b4-4b13-9ccf-0724d2c308c9",
   "metadata": {},
   "source": [
    "In this notebook, Data Science Tools and Ecosystem are summarized"
   ]
  },
  {
   "cell_type": "markdown",
   "id": "02ee45ec-8f88-44b0-bef3-7c67713cf484",
   "metadata": {},
   "source": [
    "**Objectives**\n",
    "- List popular languages for Data Science \n",
    "- List Commonly used libraries in Data Science\n",
    "- Create a Table of Data Science tools\n",
    "- Perform simple arithmetic expressions using Python"
   ]
  },
  {
   "cell_type": "markdown",
   "id": "0af02199-8ff9-48ac-8413-304c0522da1e",
   "metadata": {},
   "source": [
    "Some of the popular languages that Data Scientists use are:\n",
    "1. Python\n",
    "2. SQL\n",
    "3. Scala\n",
    "4. Java\n",
    "5. C++\n",
    "6. Julia"
   ]
  },
  {
   "cell_type": "markdown",
   "id": "8b13bab0-a350-4ae4-a76c-42f9ee0903c5",
   "metadata": {},
   "source": [
    "Some of the commonly used libraries used by Data Scientists include:\n",
    "1. Pandas\n",
    "2. Numpy\n",
    "3. Matplotlib\n",
    "4. Scikit-learn\n",
    "5. Keras\n",
    "6. Pytorch"
   ]
  },
  {
   "cell_type": "markdown",
   "id": "0ea45f33-7fe4-4847-aec5-3671c9a40245",
   "metadata": {
    "tags": []
   },
   "source": [
    "|Data Science Tools|\n",
    "|------------------|\n",
    "|MySqL|\n",
    "|MongoDB|\n",
    "|Apache CouchDB|\n",
    "|Ceph|\n"
   ]
  },
  {
   "cell_type": "markdown",
   "id": "03e4eb1c-0922-49a3-afd0-70730fd59784",
   "metadata": {},
   "source": [
    "### Below are a few examples of evaluating arithmetic expressions in Python"
   ]
  },
  {
   "cell_type": "code",
   "execution_count": 3,
   "id": "f7b570fc-5d3d-416d-b090-b187cfef3cde",
   "metadata": {
    "tags": []
   },
   "outputs": [
    {
     "data": {
      "text/plain": [
       "17"
      ]
     },
     "execution_count": 3,
     "metadata": {},
     "output_type": "execute_result"
    }
   ],
   "source": [
    "# This is a simple arithmetic expression to multiply then add integers\n",
    "(3*4)+5"
   ]
  },
  {
   "cell_type": "code",
   "execution_count": 5,
   "id": "874357c1-6e90-49b8-99fd-7aef8a6bfb83",
   "metadata": {
    "tags": []
   },
   "outputs": [
    {
     "data": {
      "text/plain": [
       "3.3333333333333335"
      ]
     },
     "execution_count": 5,
     "metadata": {},
     "output_type": "execute_result"
    }
   ],
   "source": [
    "# This will convert 200 minutes to hours by dividing by 60\n",
    "200/60"
   ]
  },
  {
   "cell_type": "markdown",
   "id": "961a45e4-20b1-4238-b2a3-918485881334",
   "metadata": {},
   "source": [
    "## Author\n",
    "Masenya Miya"
   ]
  }
 ],
 "metadata": {
  "kernelspec": {
   "display_name": "Python 3 (ipykernel)",
   "language": "python",
   "name": "python3"
  },
  "language_info": {
   "codemirror_mode": {
    "name": "ipython",
    "version": 3
   },
   "file_extension": ".py",
   "mimetype": "text/x-python",
   "name": "python",
   "nbconvert_exporter": "python",
   "pygments_lexer": "ipython3",
   "version": "3.11.3"
  }
 },
 "nbformat": 4,
 "nbformat_minor": 5
}
